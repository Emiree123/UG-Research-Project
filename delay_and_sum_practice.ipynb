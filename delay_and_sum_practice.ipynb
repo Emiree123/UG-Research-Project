{
 "cells": [
  {
   "cell_type": "markdown",
   "metadata": {},
   "source": [
    "step 1, identify coordinates of receiver, transmitter and pixel\n",
    "step 2: find the time taken, previous function \n",
    "step 3: convert time in seconds into a sample index, number of samples since time=0. Using dt=1/sammplefrequency\n",
    "step 4: 5 stage extraction, 1. get the correct waveform from rcvData which is 256x256x2560 -> the waveform from the correct transmitter and receiver -> using indexing  ~ signal = rcvData[Tx, Rx, :] \n",
    "                            2. convert the raw data into processed data. i.e. not having negative values in the y-axis -> preProcessData function\n",
    "                            3. extract value from ^ waveform, using the given time point\n",
    "                            4. store the extracted value in the accummilator variable\n",
    "                            5. repeat for all combinations of transmitter 1 and all the receivers, do this for a random pixel, near the middle (300,300) "
   ]
  },
  {
   "cell_type": "markdown",
   "metadata": {},
   "source": [
    "to do: ^ have everything as a function \n",
    "        input: which variables are needed? tx, rx, tell the function to extract information from rcvData, undergo processing and then \n",
    "        output: number added to accumulation\n",
    "\n",
    "draw graphics on inscape for the purpose of each function, what does it do? what outputs/inputs -> what does it produce\n",
    "loop over all receivers "
   ]
  }
 ],
 "metadata": {
  "language_info": {
   "name": "python"
  }
 },
 "nbformat": 4,
 "nbformat_minor": 2
}
