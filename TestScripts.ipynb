{
 "cells": [
  {
   "cell_type": "code",
   "execution_count": 4,
   "metadata": {},
   "outputs": [
    {
     "name": "stdout",
     "output_type": "stream",
     "text": [
      "<class 'dict'>\n",
      "dict_keys(['__header__', '__version__', '__globals__', 'elementPositions', 'rcvData', 'samplingFrequency', 'soundSpeed', 'waveform'])\n"
     ]
    }
   ],
   "source": [
    "import scipy.io\n",
    "import os\n",
    "import matplotlib.pyplot as plt\n",
    "from scipy import signal\n",
    "from scipy.fft import fft, fftshift\n",
    "from scipy.signal import hilbert\n",
    "from scipy.signal.windows import tukey \n",
    "import numpy as np\n",
    "import vectorised_hf as vhf\n",
    "\n",
    "# Load just the waveform from the data file\n",
    "data = scipy.io.loadmat('data/ultrasound_reflection_data.mat', variable_names=['__header__', '__version__', '__globals__', 'elementPositions', 'samplingFrequency', 'soundSpeed','waveform', 'rcvData'])\n",
    "waveform = data['waveform']\n",
    "print(type(data))\n",
    "print (data.keys())\n",
    "folder_path = 'data'\n"
   ]
  },
  {
   "cell_type": "code",
   "execution_count": 5,
   "metadata": {},
   "outputs": [],
   "source": [
    "# Extract the numpy arrays from the dictionary using their variable names\n",
    "waveform = data['waveform']\n",
    "samplingFrequency = data['samplingFrequency']\n",
    "elementPositions = data['elementPositions']\n",
    "soundSpeed = data['soundSpeed']\n",
    "rcvData = data['rcvData']\n"
   ]
  },
  {
   "cell_type": "code",
   "execution_count": 6,
   "metadata": {},
   "outputs": [
    {
     "name": "stdout",
     "output_type": "stream",
     "text": [
      "(2560,)\n",
      "()\n",
      "256.0\n",
      "()\n",
      "256.0\n",
      "167772160\n"
     ]
    }
   ],
   "source": [
    "Ntx, Nrx, Nt = rcvData.shape\n",
    "rcvData2D = rcvData.reshape(Ntx*Nrx, Nt)\n",
    "winData2D = vhf.tukey_vectorised(rcvData2D,  alpha=0.1, noise_Length=300)\n",
    "test_env = vhf.envelope_detection(winData2D)"
   ]
  },
  {
   "cell_type": "code",
   "execution_count": 7,
   "metadata": {},
   "outputs": [
    {
     "data": {
      "text/plain": [
       "[<matplotlib.lines.Line2D at 0x1f7f81e1700>]"
      ]
     },
     "execution_count": 7,
     "metadata": {},
     "output_type": "execute_result"
    },
    {
     "data": {
      "image/png": "[encoded data removed]",
      "text/plain": [
       "<Figure size 640x480 with 1 Axes>"
      ]
     },
     "metadata": {},
     "output_type": "display_data"
    }
   ],
   "source": [
    "plt.plot (test_env[1,:])"
   ]
  },
  {
   "cell_type": "code",
   "execution_count": 8,
   "metadata": {},
   "outputs": [
    {
     "name": "stdout",
     "output_type": "stream",
     "text": [
      "14400\n"
     ]
    }
   ],
   "source": [
    "# Test the create Imaging Grid function with dx = 0.0003 and Lx = 0.24\n",
    "dx = 0.002 \n",
    "Lx = 0.24\n",
    "X, Y = vhf.createImagingGrid(dx, Lx)\n",
    "Npx = X.size\n",
    "print(Npx)"
   ]
  },
  {
   "cell_type": "code",
   "execution_count": 9,
   "metadata": {},
   "outputs": [
    {
     "ename": "AttributeError",
     "evalue": "module 'vectorised_hf' has no attribute 'calculateDistanceMap'",
     "output_type": "error",
     "traceback": [
      "\u001b[1;31m---------------------------------------------------------------------------\u001b[0m",
      "\u001b[1;31mAttributeError\u001b[0m                            Traceback (most recent call last)",
      "\u001b[1;32mc:\\Users\\Morgan\\Desktop\\Emily Lim\\UG-Research-Project\\TestScripts.ipynb Cell 6\u001b[0m line \u001b[0;36m1\n\u001b[0;32m     <a href='vscode-notebook-cell:/c%3A/Users/Morgan/Desktop/Emily%20Lim/UG-Research-Project/TestScripts.ipynb#X11sZmlsZQ%3D%3D?line=11'>12</a>\u001b[0m Yd \u001b[39m=\u001b[39m np\u001b[39m.\u001b[39marray([\u001b[39m0.05\u001b[39m, \u001b[39m0.07\u001b[39m])  \u001b[39m# Y coordinates of detectors\u001b[39;00m\n\u001b[0;32m     <a href='vscode-notebook-cell:/c%3A/Users/Morgan/Desktop/Emily%20Lim/UG-Research-Project/TestScripts.ipynb#X11sZmlsZQ%3D%3D?line=13'>14</a>\u001b[0m \u001b[39m# Calculate distance map\u001b[39;00m\n\u001b[1;32m---> <a href='vscode-notebook-cell:/c%3A/Users/Morgan/Desktop/Emily%20Lim/UG-Research-Project/TestScripts.ipynb#X11sZmlsZQ%3D%3D?line=14'>15</a>\u001b[0m distanceMap \u001b[39m=\u001b[39m vhf\u001b[39m.\u001b[39;49mcalculateDistanceMap(Xd, Yd, Xp, Yp)\n\u001b[0;32m     <a href='vscode-notebook-cell:/c%3A/Users/Morgan/Desktop/Emily%20Lim/UG-Research-Project/TestScripts.ipynb#X11sZmlsZQ%3D%3D?line=16'>17</a>\u001b[0m \u001b[39m# Convert distance map to time map\u001b[39;00m\n\u001b[0;32m     <a href='vscode-notebook-cell:/c%3A/Users/Morgan/Desktop/Emily%20Lim/UG-Research-Project/TestScripts.ipynb#X11sZmlsZQ%3D%3D?line=17'>18</a>\u001b[0m timeMap \u001b[39m=\u001b[39m vhf\u001b[39m.\u001b[39mtimeMap(distanceMap, speedOfSound)\n",
      "\u001b[1;31mAttributeError\u001b[0m: module 'vectorised_hf' has no attribute 'calculateDistanceMap'"
     ]
    }
   ],
   "source": [
    "# Precompute the distance map here [m]\n",
    "# Define parameters\n",
    "dx = 0.001  # Grid spacing\n",
    "Lx = 0.1    # Size of the grid\n",
    "speedOfSound = 1540  # Speed of sound in m/s (typical for soft tissues)\n",
    "\n",
    "# Create imaging grid\n",
    "Xp, Yp = vhf.createImagingGrid(dx, Lx)\n",
    "\n",
    "# Detector coordinates (example values)\n",
    "Xd = np.array([0.05, 0.07])  # X coordinates of detectors\n",
    "Yd = np.array([0.05, 0.07])  # Y coordinates of detectors\n",
    "\n",
    "# Calculate distance map\n",
    "distanceMap = vhf.calculateDistanceMap(Xd, Yd, Xp, Yp)\n",
    "\n",
    "# Convert distance map to time map\n",
    "timeMap = vhf.timeMap(distanceMap, speedOfSound)\n",
    "\n",
    "# Now timeMap contains the time taken for sound to travel \n",
    "# from each detector position to each pixel position\n",
    "\n",
    "# Precompute the distance map here [m]\n",
    "\n",
    "# Convert this to a delay map [s]\n",
    "\n",
    "# Convert this to a sample index travel time map [samples]"
   ]
  },
  {
   "cell_type": "code",
   "execution_count": null,
   "metadata": {},
   "outputs": [],
   "source": [
    "# Initialise accumulator\n",
    "accumulator = 0"
   ]
  },
  {
   "cell_type": "code",
   "execution_count": null,
   "metadata": {},
   "outputs": [],
   "source": [
    "accumulated_values = np.zeros(X.shape)"
   ]
  },
  {
   "cell_type": "code",
   "execution_count": null,
   "metadata": {},
   "outputs": [],
   "source": [
    "total_pixels = X.shape[0] * X.shape[1]\n",
    "current_pixel = 0\n",
    "\n",
    "for pixel_row in range(X.shape[0]):\n",
    "    for pixel_col in range(X.shape[1]):\n",
    "        accumulator = 0\n",
    "        Xp = X[pixel_row, pixel_col]\n",
    "        Yp = Y[pixel_row, pixel_col]\n",
    "        # Loop over all transmitters and receivers\n",
    "        for Tx in [0]: \n",
    "            for Rx in range(256):  \n",
    "                x = vhf.accumulate_signal(Tx, Rx, Xp, Yp, elementPositions, soundSpeed, samplingFrequency, rcvData) # Not sure how to include processed data, \n",
    "                                                                             # since the 3d matrix is embedded back into the accumulate function, instead of the pre processed vectorisation function\n",
    "        accumulated_values[pixel_row, pixel_col] = accumulator\n",
    "        # Update progress\n",
    "        current_pixel += 1\n",
    "        percentage_completed = (current_pixel / total_pixels) * 100\n",
    "        print(f\"{percentage_completed:.2f}%\", end='\\r') # prints to 2dp, with a return"
   ]
  },
  {
   "cell_type": "code",
   "execution_count": null,
   "metadata": {},
   "outputs": [],
   "source": [
    "# Plot X and Y using plt.imshow\n",
    "plt.imshow(accumulated_values)"
   ]
  }
 ],
 "metadata": {
  "kernelspec": {
   "display_name": "base",
   "language": "python",
   "name": "python3"
  },
  "language_info": {
   "codemirror_mode": {
    "name": "ipython",
    "version": 3
   },
   "file_extension": ".py",
   "mimetype": "text/x-python",
   "name": "python",
   "nbconvert_exporter": "python",
   "pygments_lexer": "ipython3",
   "version": "3.9.12"
  }
 },
 "nbformat": 4,
 "nbformat_minor": 2
}
