{
 "cells": [
  {
   "cell_type": "code",
   "execution_count": 51,
   "metadata": {},
   "outputs": [
    {
     "name": "stdout",
     "output_type": "stream",
     "text": [
      "(57600, 1)\n"
     ]
    }
   ],
   "source": [
    "# Function containing all the preprossing data, and run the reconstruction\n",
    "import scipy.io\n",
    "import os\n",
    "import matplotlib.pyplot as plt\n",
    "from scipy.io import loadmat\n",
    "from scipy import signal\n",
    "from scipy.fft import fft, fftshift\n",
    "from scipy.signal import hilbert\n",
    "from scipy.signal.windows import tukey \n",
    "import numpy as np\n",
    "import vectorised_hf as vhf\n",
    "\n",
    "\n",
    "data = scipy.io.loadmat('data/ultrasound_reflection_data.mat', variable_names=['__header__', '__version__', '__globals__', 'elementPositions', 'samplingFrequency', 'soundSpeed', 'rcvData'])\n",
    "elementPositions = data['elementPositions']\n",
    "\n",
    "Nmodule = 16\n",
    "deltaTheta = 360/Nmodule\n",
    "moduleNormals = np.arange(0,360,deltaTheta)\n",
    "moduleNormals2 = moduleNormals.reshape(-1,1)\n",
    "moduleNormals2T =  moduleNormals2.T\n",
    "\n",
    "# Calculate the normal angle for each individual element\n",
    "elementNormals = np.tile(moduleNormals2T,(Nmodule,1))\n",
    "elementNormals = elementNormals.flatten('F')\n",
    "sinvals = np.sin(elementNormals).reshape(-1,1)\n",
    "cosvals = np.cos(elementNormals).reshape(-1,1)\n",
    "\n",
    "elementNormalVec = np.concatenate([sinvals,cosvals],1)\n",
    "\n",
    "\n",
    "dx = 0.001  # Grid spacing\n",
    "Lx = 0.24    # Size of the grid\n",
    "Xp, Yp = vhf.createImagingVector(dx, Lx)\n",
    "Xp = Xp.reshape(-1,1)\n",
    "Yp = Yp.reshape(-1,1)\n",
    "print(Xp.shape)\n",
    "\n",
    "Ntx = 256\n",
    "Npx = Xp.size\n",
    "angle_map = np.zeros((Npx, Ntx));\n",
    "for idx in range(1):\n",
    "    vector_map = elementPositions[idx,:] - np.concatenate([Xp, Yp], 1)\n",
    "    z = np.sqrt( np.sum(vector_map**2, 1) )\n",
    "    z = z.reshape(-1,1)\n",
    "    a = (vector_map /  z).T\n",
    "    y = elementNormalVec[idx,:].T\n",
    "    y = y.reshape(-1,1)\n",
    "    b = np.tile(y, (1, Npx))\n",
    "    \n",
    "    x = np.arccos(np.dot(a, b))\n",
    "    angle_map[:,idx] =\n",
    "   \n",
    "\n",
    "\n",
    "#test = calculateElementNormals()\n",
    "#elementNormalVec = test\n"
   ]
  }
 ],
 "metadata": {
  "kernelspec": {
   "display_name": "base",
   "language": "python",
   "name": "python3"
  },
  "language_info": {
   "codemirror_mode": {
    "name": "ipython",
    "version": 3
   },
   "file_extension": ".py",
   "mimetype": "text/x-python",
   "name": "python",
   "nbconvert_exporter": "python",
   "pygments_lexer": "ipython3",
   "version": "3.9.12"
  }
 },
 "nbformat": 4,
 "nbformat_minor": 2
}
