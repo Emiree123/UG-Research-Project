{
 "cells": [
  {
   "cell_type": "code",
   "execution_count": 137,
   "metadata": {},
   "outputs": [
    {
     "name": "stdout",
     "output_type": "stream",
     "text": [
      "<class 'dict'>\n",
      "dict_keys(['__header__', '__version__', '__globals__', 'elementPositions', 'rcvData', 'samplingFrequency', 'soundSpeed', 'waveform'])\n"
     ]
    }
   ],
   "source": [
    "import scipy.io\n",
    "import os\n",
    "import matplotlib.pyplot as plt\n",
    "from scipy import signal\n",
    "from scipy.fft import fft, fftshift\n",
    "from scipy.signal import hilbert\n",
    "from scipy.signal.windows import tukey \n",
    "import numpy as np\n",
    "import helper_functions as hf\n",
    "\n",
    "# Load just the waveform from the data file\n",
    "data = scipy.io.loadmat('data/ultrasound_reflection_data.mat', variable_names=['__header__', '__version__', '__globals__', 'elementPositions', 'samplingFrequency', 'soundSpeed','waveform', 'rcvData'])\n",
    "waveform = data['waveform']\n",
    "print(type(data))\n",
    "print (data.keys())"
   ]
  },
  {
   "cell_type": "code",
   "execution_count": 138,
   "metadata": {},
   "outputs": [
    {
     "name": "stdout",
     "output_type": "stream",
     "text": [
      "<class 'numpy.ndarray'>\n",
      "(2560, 1)\n"
     ]
    }
   ],
   "source": [
    "# Extract the numpy arrays from the dictionary using their variable names\n",
    "waveform = data['waveform']\n",
    "samplingFrequency = data['samplingFrequency']\n",
    "elementPositions = data['elementPositions']\n",
    "soundSpeed = data['soundSpeed']\n",
    "rcvData = data['rcvData']\n",
    "\n",
    "# Verify the data type is a numpy array\n",
    "print(type(waveform))\n",
    "\n",
    "# Look at the shape of the waveform\n",
    "print(waveform.shape)"
   ]
  },
  {
   "cell_type": "code",
   "execution_count": 139,
   "metadata": {},
   "outputs": [
    {
     "name": "stdout",
     "output_type": "stream",
     "text": [
      "(2560,)\n"
     ]
    }
   ],
   "source": [
    "# Squeeze the waveform to make it 1D and compatible with other numpy vectors\n",
    "waveform = np.squeeze(waveform)\n",
    "\n",
    "# Verify this worked\n",
    "print(waveform.shape)"
   ]
  },
  {
   "cell_type": "markdown",
   "metadata": {},
   "source": [
    "    Apply a Tukey window to a given signal.\n",
    "\n",
    "    Parameters:\n",
    "    - signal: The input signal to which the Tukey window will be applied.\n",
    "    - alpha: The parameter controlling the shape of the Tukey window.\n",
    "         0 corresponds to a rectangular window, and 1 corresponds to a Hann window.\n",
    "         Values between 0 and 1 produce a Tukey window with intermediate shapes.\n",
    "    Returns:\n",
    "    - The input signal multiplied by the Tukey window."
   ]
  },
  {
   "cell_type": "code",
   "execution_count": 140,
   "metadata": {},
   "outputs": [],
   "source": [
    "# Create and apply the window\n",
    "def tukey_window(waveform, alpha=0.1, noise_length=300):\n",
    "    max_val = np.max(waveform)\n",
    "    Nt = np.size(waveform)\n",
    "    Nwin = Nt - noise_length\n",
    "    window = tukey(Nwin, alpha)\n",
    "    padding = np.zeros((noise_length,))\n",
    "    #Squeeze the waveform so it has the same shape as the window, so the multiply function works properly\n",
    "    # print(padding.shape)\n",
    "    # print(window.shape)\n",
    "    final_window = np.concatenate([padding, window])\n",
    "    waveform = np.squeeze(waveform)\n",
    "    waveform_win = np.multiply(final_window , waveform)\n",
    "\n",
    "    # Plot the waveform\n",
    "    plt.figure(figsize=(10, 6))  # Set the size of the plot\n",
    "    plt.plot(waveform/max_val, color='blue', linestyle='-', linewidth=0.2)  # waveform and its window\n",
    "    plt.savefig('waveform/max_val.png', dpi=300)  # Saves the plot as a PNG file\n",
    "    plt.savefig(os.path.join(folder_path, 'waveform/max_val.png'))\n",
    "    plt.plot(waveform_win/max_val, color='red', linestyle='-', linewidth=0.2)\n",
    "    plt.savefig('waveform_win/max_val.png', dpi=300)  # Saves the plot as a PNG file\n",
    "    plt.savefig(os.path.join(folder_path, 'waveform_win/max_val.png'))\n",
    "    plt.show()\n",
    "    return waveform_win"
   ]
  },
  {
   "cell_type": "code",
   "execution_count": 141,
   "metadata": {},
   "outputs": [
    {
     "name": "stdout",
     "output_type": "stream",
     "text": [
      "[-0.         -0.         -0.         ...  0.00022349 -0.00020487\n",
      " -0.        ]\n"
     ]
    }
   ],
   "source": [
    "# Obtain and print the results\n",
    "noise_length = int(40e-6 * samplingFrequency) # dt value might not always be 80ns, to ensure that noise_length isn't affected sampling frequency was used\n",
    "waveform_win = hf.tukey_window(waveform, alpha=0.5, noise_length =  noise_length)\n",
    "print(waveform_win)"
   ]
  },
  {
   "cell_type": "markdown",
   "metadata": {},
   "source": [
    "    Perform envelope detection on a given waveform.\n",
    "\n",
    "    Parameters:\n",
    "    - waveform_win: The input waveform to perform envelope detection on.\n",
    "\n",
    "    Returns:\n",
    "    - The envelope of the input waveform."
   ]
  },
  {
   "cell_type": "code",
   "execution_count": 142,
   "metadata": {},
   "outputs": [],
   "source": [
    "# # Function for envelope detection\n",
    "# def envelope_detection(waveform_win):\n",
    "#     analytic_signal = hilbert(waveform_win)\n",
    "#     envelope = np.abs(analytic_signal)\n",
    "#     # Compute and test the envelope function\n",
    "#     # envelope = envelope_detection(waveform_win)\n",
    "#     return envelope"
   ]
  },
  {
   "cell_type": "code",
   "execution_count": 143,
   "metadata": {},
   "outputs": [
    {
     "name": "stdout",
     "output_type": "stream",
     "text": [
      "(2560,)\n"
     ]
    }
   ],
   "source": [
    "test = hf.envelope_detection(waveform_win)\n",
    "print(test.shape)"
   ]
  },
  {
   "cell_type": "markdown",
   "metadata": {},
   "source": [
    "    Pre-process ultrasound waveform data.\n",
    "\n",
    "    Parameters:\n",
    "    - waveform: The original ultrasound waveform data.\n",
    "    - alpha: Tukey window parameter.\n",
    "    - noise_length: Length of the noise signal to be zero-padded.\n",
    "\n",
    "    Returns:\n",
    "    - The pre-processed envelope data."
   ]
  },
  {
   "cell_type": "code",
   "execution_count": 144,
   "metadata": {},
   "outputs": [],
   "source": [
    "# # Function for pre-processing data\n",
    "# def preProcessData(waveform, alpha=0.1, noise_length=300):\n",
    "#     # Apply Tukey window\n",
    "#     waveform_win = tukey_window(waveform, alpha, noise_length)\n",
    "#     # Test the pre-processing function \n",
    "#     envelope = envelope_detection(waveform_win)\n",
    "#     return envelope"
   ]
  },
  {
   "cell_type": "code",
   "execution_count": 145,
   "metadata": {},
   "outputs": [
    {
     "name": "stdout",
     "output_type": "stream",
     "text": [
      "767.9634343111306\n"
     ]
    }
   ],
   "source": [
    "envelope = hf.preProcessData(waveform, alpha=0.1, noise_length=300)\n",
    "# plt.plot(envelope)\n",
    "\n",
    "print(envelope[1250])"
   ]
  },
  {
   "cell_type": "code",
   "execution_count": 146,
   "metadata": {},
   "outputs": [],
   "source": [
    "# # Plot and save figures for different alpha and noise_length values\n",
    "# alphas = [0.1]\n",
    "# noise_lengths = [300]\n",
    "\n",
    "# for alpha_val in alphas:\n",
    "#     for noise_length_val in noise_lengths:\n",
    "#         envelope = preProcessData(waveform, alpha=alpha_val, noise_length=noise_length_val)\n",
    "#         plt.plot(envelope)\n",
    "#         plt.title(f\"Alpha={alpha_val}, Noise Length={noise_length_val}\")\n",
    "#         plt.xlabel(\"Sample Index\")\n",
    "#         plt.ylabel(\"Envelope\")\n",
    "#         plt.savefig(os.path.join(folder_path, f\"envelopealpha{alpha_val}noise{noise_length_val}.png\"))\n",
    "#         pause\n",
    "#         plt.clf()\n",
    "        "
   ]
  },
  {
   "cell_type": "markdown",
   "metadata": {},
   "source": [
    "    Create a 2D imaging grid.\n",
    "\n",
    "    Parameters:\n",
    "    - dx: Spacing between grid points.\n",
    "    - Lx: Total size of the grid.\n",
    "\n",
    "    Returns:\n",
    "    - X, Y: Meshgrid representing the imaging grid."
   ]
  },
  {
   "cell_type": "code",
   "execution_count": 147,
   "metadata": {},
   "outputs": [],
   "source": [
    "# # Imaging grid: \n",
    "# def createImagingGrid(dx, Lx):\n",
    "#     Nx = round(Lx / dx)\n",
    "#     x_vec = np.arange(0, Nx) * dx - np.mean(np.arange(0, Nx) * dx)\n",
    "#     X, Y = np.meshgrid(x_vec, x_vec)\n",
    "#     return X, Y"
   ]
  },
  {
   "cell_type": "code",
   "execution_count": 148,
   "metadata": {},
   "outputs": [],
   "source": [
    "# Test the create Imaging Grid function with dx = 0.0003 and Lx = 0.24\n",
    "dx = 0.002 \n",
    "Lx = 0.24\n",
    "X, Y = hf.createImagingGrid(dx, Lx)"
   ]
  },
  {
   "cell_type": "code",
   "execution_count": 149,
   "metadata": {},
   "outputs": [
    {
     "data": {
      "image/png": "[encoded data removed]",
      "text/plain": [
       "<Figure size 640x480 with 2 Axes>"
      ]
     },
     "metadata": {},
     "output_type": "display_data"
    }
   ],
   "source": [
    "\n",
    "# Making a variable to save into data folder\n",
    "folder_path = 'data'\n",
    "\n",
    "# Define the file paths\n",
    "x_matrix_path = os.path.join(folder_path, \"X_matrix.png\")\n",
    "y_matrix_path = os.path.join(folder_path, \"Y_matrix.png\")\n",
    "\n",
    "# Plot X and Y using plt.imshow\n",
    "plt.imshow(X, extent=(X.min(), X.max(), Y.min(), Y.max()))\n",
    "plt.colorbar(label=\"X\")\n",
    "plt.title(\"X Matrix\")\n",
    "plt.xlabel(\"X\")\n",
    "plt.ylabel(\"Y\")\n",
    "plt.savefig(x_matrix_path)\n",
    "plt.clf()\n",
    "\n",
    "plt.imshow(Y, extent=(X.min(), X.max(), Y.min(), Y.max()))\n",
    "plt.colorbar(label=\"Y\")\n",
    "plt.title(\"Y Matrix\")\n",
    "plt.xlabel(\"X\")\n",
    "plt.ylabel(\"Y\")\n",
    "plt.savefig(y_matrix_path)\n"
   ]
  },
  {
   "cell_type": "markdown",
   "metadata": {},
   "source": [
    "    Calculate the travel time of ultrasound waves.\n",
    "\n",
    "    Parameters:\n",
    "    - Xt, Yt: Transmitter coordinates.\n",
    "    - Xr, Yr: Receiver coordinates.\n",
    "    - Xp, Yp: Pixel coordinates.\n",
    "    - soundSpeed: Speed of sound in the medium.\n",
    "\n",
    "    Returns:\n",
    "    - Travel time in seconds."
   ]
  },
  {
   "cell_type": "code",
   "execution_count": 150,
   "metadata": {},
   "outputs": [],
   "source": [
    "# def getTravelTime(Xt, Yt, Xr, Yr, Xp, Yp, soundSpeed):\n",
    "#     # Calculate the distances\n",
    "#     distance_tx_to_pixel = np.sqrt((Xt - Xp)**2 + (Yt - Yp)**2)\n",
    "#     distance_pixel_to_rx = np.sqrt((Xr - Xp)**2 + (Yr - Yp)**2)\n",
    "\n",
    "#     # Calculate the total travel distance\n",
    "#     total_distance = distance_tx_to_pixel + distance_pixel_to_rx\n",
    "\n",
    "#     # Convert distance to travel time\n",
    "#     travelTime = total_distance / soundSpeed\n",
    "\n",
    "#     return travelTime"
   ]
  },
  {
   "cell_type": "code",
   "execution_count": 151,
   "metadata": {},
   "outputs": [],
   "source": [
    "# Coordinates for the 1st transmitter (replace with actual indices)\n",
    "Xt = elementPositions[0, 0]\n",
    "Yt = elementPositions[0, 1]\n",
    "\n",
    "# Coordinates for the 31st receiver (replace with actual indices)\n",
    "Xr = elementPositions[30, 0]\n",
    "Yr = elementPositions[30, 1]\n",
    "\n",
    "# Make an imaging grid and choose a random pixel\n",
    "X, Y = hf.createImagingGrid(dx, Lx)  # Replace values accordingly, depending on grid size\n",
    "pixel_row = 40\n",
    "pixel_col = 40\n",
    "Xp = X[pixel_row, pixel_col]  # Replace with the desired pixel coordinates\n",
    "Yp = Y[pixel_row, pixel_col]\n",
    "\n",
    "# Print the coordinates\n",
    "# print(f\"Transmitter Coordinates: Xt={Xt}, Yt={Yt}\")\n",
    "# print(f\"Receiver Coordinates: Xr={Xr}, Yr={Yr}\")\n",
    "# print(f\"Pixel Coordinates: Xp={Xp}, Yp={Yp}\")"
   ]
  },
  {
   "cell_type": "code",
   "execution_count": 152,
   "metadata": {},
   "outputs": [
    {
     "name": "stdout",
     "output_type": "stream",
     "text": [
      "Travel Time: [[0.00021411]] seconds ([[214.1078627]] microseconds)\n"
     ]
    }
   ],
   "source": [
    "# Calculate the travel time\n",
    "travelTime = hf.getTravelTime(Xt, Yt, Xr, Yr, Xp, Yp, soundSpeed)\n",
    "print(f\"Travel Time: {travelTime} seconds ({travelTime * 1e6} microseconds)\")"
   ]
  },
  {
   "cell_type": "code",
   "execution_count": 153,
   "metadata": {},
   "outputs": [],
   "source": [
    "# def time_to_sample_index(time, sample_frequency):\n",
    "#     return int(time * sample_frequency)\n",
    "\n",
    "# # Assuming you have a time value in seconds and the sample frequency\n",
    "# time = 0.001  # Replace with your time value\n",
    "# sample_frequency = 10e6  # Replace with your sample frequency\n",
    "\n",
    "# sample_index = time_to_sample_index(time, sample_frequency)\n",
    "# print(f\"Sample Index: {sample_index}\")"
   ]
  },
  {
   "cell_type": "code",
   "execution_count": 154,
   "metadata": {},
   "outputs": [],
   "source": [
    "# Assuming you want the waveform from the first transmitter and the second receiver\n",
    "Tx = 0  # Index of the transmitter\n",
    "Rx = 1  # Index of the receiver\n",
    "\n",
    "# Extracting the waveform\n",
    "signal = rcvData[Tx, Rx, :]\n",
    "\n",
    "# Now, 'signal' contains the waveform from the specified transmitter and receiver\n"
   ]
  },
  {
   "cell_type": "code",
   "execution_count": 155,
   "metadata": {},
   "outputs": [],
   "source": [
    "# Initialise accumulator\n",
    "accumulator = 0"
   ]
  },
  {
   "cell_type": "code",
   "execution_count": 156,
   "metadata": {},
   "outputs": [],
   "source": [
    "# Loop over multiple receivers\n",
    "# for Rx in range(256):  \n",
    "#     # Extract the waveform for the Tx-Rx pair\n",
    "#     signal = waveform[Tx, Rx, :]\n",
    "\n",
    "#     # Process the extracted waveform, ensure there are no negative y-axis values as well\n",
    "#     processed_signal = hf.preProcessData(signal, alpha=0.2, noise_length=300)\\\n",
    "#     # Not sure if the above line would extract the entire signal or a point on the signal\n",
    "\n",
    "#     # Get Transmitter and Receiver coordinates\n",
    "#     Xt = elementPositions[Tx, 0]\n",
    "#     Yt = elementPositions[Tx, 1]\n",
    "#     Xr = elementPositions[Rx, 0]\n",
    "#     Yr = elementPositions[Rx, 1]\n",
    "\n",
    "#     # Calculate travel time\n",
    "#     travelTime = hf.getTravelTime(Xt, Yt, Xr, Yr, Xp, Yp, soundSpeed)\n",
    "\n",
    "#     # Convert travel time to sample index\n",
    "#     sample_index = hf.time_to_sample_index(travelTime, samplingFrequency)\n",
    "\n",
    "#     # Ensure the sample index is within the bounds of the processed_signal\n",
    "#     if 0 <= sample_index < len(processed_signal):\n",
    "#         # Extract value and accumulate\n",
    "#         accumulator += processed_signal[sample_index]\n",
    "\n",
    "# # Print the accumulated value for the specific pixel\n",
    "# print(f\"Accumulated value for pixel ({pixel_row},{pixel_col}): {accumulator}\")"
   ]
  },
  {
   "cell_type": "code",
   "execution_count": 157,
   "metadata": {},
   "outputs": [],
   "source": [
    "# Do PREPROCESSING\n",
    "accumulated_values = np.zeros(X.shape)"
   ]
  },
  {
   "cell_type": "code",
   "execution_count": 160,
   "metadata": {},
   "outputs": [
    {
     "name": "stdout",
     "output_type": "stream",
     "text": [
      "100.00%\r"
     ]
    }
   ],
   "source": [
    "total_pixels = X.shape[0] * X.shape[1]\n",
    "current_pixel = 0\n",
    "\n",
    "for pixel_row in range(X.shape[0]):\n",
    "    for pixel_col in range(X.shape[1]):\n",
    "        accumulator = 0\n",
    "        Xp = X[pixel_row, pixel_col]\n",
    "        Yp = Y[pixel_row, pixel_col]\n",
    "        # Loop over all transmitters and receivers\n",
    "        for Tx in [0]: \n",
    "            for Rx in range(256):  \n",
    "                x = hf.accumulate_signal(Tx, Rx, Xp, Yp, elementPositions, soundSpeed, samplingFrequency, rcvData) # GIVE THIS PRE_PROCESSED DATA\n",
    "                accumulator += x \n",
    "        accumulated_values[pixel_row, pixel_col] = accumulator\n",
    "        # Update progress\n",
    "        current_pixel += 1\n",
    "        percentage_completed = (current_pixel / total_pixels) * 100\n",
    "        print(f\"{percentage_completed:.2f}%\", end='\\r') # prints to 2dp, with a return"
   ]
  },
  {
   "cell_type": "code",
   "execution_count": 159,
   "metadata": {},
   "outputs": [
    {
     "data": {
      "text/plain": [
       "<matplotlib.image.AxesImage at 0x224bafc9220>"
      ]
     },
     "execution_count": 159,
     "metadata": {},
     "output_type": "execute_result"
    },
    {
     "data": {
      "image/png": "[encoded data removed]",
      "text/plain": [
       "<Figure size 640x480 with 1 Axes>"
      ]
     },
     "metadata": {},
     "output_type": "display_data"
    }
   ],
   "source": [
    "# Plot X and Y using plt.imshow\n",
    "plt.imshow(accumulated_values)"
   ]
  }
 ],
 "metadata": {
  "kernelspec": {
   "display_name": "Python 3",
   "language": "python",
   "name": "python3"
  },
  "language_info": {
   "codemirror_mode": {
    "name": "ipython",
    "version": 3
   },
   "file_extension": ".py",
   "mimetype": "text/x-python",
   "name": "python",
   "nbconvert_exporter": "python",
   "pygments_lexer": "ipython3",
   "version": "3.9.12"
  }
 },
 "nbformat": 4,
 "nbformat_minor": 2
}
