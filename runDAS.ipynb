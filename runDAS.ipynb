{
 "cells": [
  {
   "cell_type": "code",
   "execution_count": 22,
   "metadata": {},
   "outputs": [],
   "source": [
    "# Function containing all the preprossing data, and run the reconstruction\n",
    "import scipy.io\n",
    "import os\n",
    "import matplotlib.pyplot as plt\n",
    "from scipy.io import loadmat\n",
    "from scipy import signal\n",
    "from scipy.fft import fft, fftshift\n",
    "from scipy.signal import hilbert\n",
    "from scipy.signal.windows import tukey \n",
    "import numpy as np\n",
    "import vectorised_hf as vhf\n",
    "\n",
    "data = scipy.io.loadmat('data/ultrasound_reflection_data.mat', variable_names=['__header__', '__version__', '__globals__', 'elementPositions', 'samplingFrequency', 'soundSpeed','waveform', 'rcvData'])"
   ]
  },
  {
   "cell_type": "code",
   "execution_count": 23,
   "metadata": {},
   "outputs": [],
   "source": [
    "def runDAS(samplingFrequency, elementPositions, soundSpeed, rcvData):\n",
    "    nTx = 255 # Number of transmitters\n",
    "    nRx = 255 # Number of receivers\n",
    "    nt = 2559 # Time samples\n",
    "    dx = 0.001  # Grid spacing\n",
    "    Lx = 0.12    # Size of the grid\n",
    "    Ntx, Nrx, Nt = rcvData.shape\n",
    "    rcvData2D = rcvData.reshape(Ntx*Nrx, Nt)\n",
    "    winData2D = vhf.tukey_vectorised(rcvData2D, alpha=0.1, noise_Length=300)\n",
    "    test_env = vhf.envelope_detection(winData2D)\n",
    "\n",
    "    # Create imaging vector\n",
    "    Xp, Yp = vhf.createImagingVector(dx, Lx)\n",
    "    # Detector coordinates (example values)\n",
    "    Xd = elementPositions[:,0]  # X coordinates of detectors\n",
    "    Yd = elementPositions[:,1]  # Y coordinates of detectors\n",
    "\n",
    "    # Xd, Xp, Yd and Yp are in 1D, this means that the function cannot run, since they don't have an overlapping dimension to be multipled by\n",
    "    # The following code makes the 'points' 2D and transposes the matrices so that they are in the right row to column order, before running the distance map function\n",
    "    Xd2D = Xd.reshape(-1,1)\n",
    "    Xp2D = Xp.reshape(-1,1)\n",
    "    Yd2D = Yd.reshape(-1,1)\n",
    "    Yp2D = Yp.reshape(-1,1)\n",
    "    Yd2DT = Yd2D.T\n",
    "    Xd2dT = Xd2D.T\n",
    "    # Calculate distance map\n",
    "    distanceMap = vhf.calculateDistanceMap(Xd2dT, Yd2DT, Xp2D, Yp2D)\n",
    "    #   Convert distance map to time map\n",
    "    timeMap = vhf.timeMap(distanceMap, soundSpeed)\n",
    "\n",
    "    # Initialise accumulator\n",
    "    accumulator = 0\n",
    "    # accumulated_values = np.zeros(Xd2dT.shape)\n",
    "\n",
    "    # Make the 2D envelope back into 3D for ease of indexing\n",
    "    envData3D = test_env.reshape(Ntx, Nrx, Nt)\n",
    "\n",
    "    accumulator = np.zeros_like(Xp2D) \n",
    "    for Tx in range (0,nTx,8): # All the transmiters from 0 to 255,  going up in increments of 8\n",
    "        for Rx in range (nRx):\n",
    "            # Masking task! \n",
    "            # Loop over all the receivers, with only 1 transmitter, the pixel has been vectorised and will not be looped over\n",
    "            #  Have a 'time' from the transmitter to the pixel, then the pixel to the receiver for the total time\n",
    "            T1 = timeMap[:,Tx]\n",
    "            T2 = timeMap[:,Rx] \n",
    "            total_time = T1 + T2\n",
    "            # Convert travel time to sample index\n",
    "            sample_index = vhf.time_to_sample_index(total_time, samplingFrequency)\n",
    "            sample_index = sample_index.astype(int)\n",
    "            valid =  np.logical_and(sample_index < nt, sample_index >= 0)\n",
    "            extract = envData3D[Tx,Rx,sample_index[valid]]  \n",
    "            accumulator[valid.T]= accumulator[valid.T] + extract\n",
    "            np.sum(extract)\n",
    "    n = np.size(accumulator)\n",
    "    x = int(np.sqrt(n))\n",
    "    finalImage = np.reshape(accumulator,(x,x))\n",
    "    plt.imshow(finalImage)\n",
    "    return plt.imshow(finalImage)\n"
   ]
  },
  {
   "cell_type": "code",
   "execution_count": 24,
   "metadata": {},
   "outputs": [
    {
     "ename": "TypeError",
     "evalue": "string indices must be integers",
     "output_type": "error",
     "traceback": [
      "\u001b[1;31m---------------------------------------------------------------------------\u001b[0m",
      "\u001b[1;31mTypeError\u001b[0m                                 Traceback (most recent call last)",
      "Cell \u001b[1;32mIn[24], line 2\u001b[0m\n\u001b[0;32m      1\u001b[0m data \u001b[38;5;241m=\u001b[39m \u001b[38;5;124m'\u001b[39m\u001b[38;5;124mdata/ultrasound_reflection_data.mat\u001b[39m\u001b[38;5;124m'\u001b[39m\n\u001b[1;32m----> 2\u001b[0m Image \u001b[38;5;241m=\u001b[39m runDAS(samplingFrequency \u001b[38;5;241m=\u001b[39m \u001b[43mdata\u001b[49m\u001b[43m[\u001b[49m\u001b[38;5;124;43m'\u001b[39;49m\u001b[38;5;124;43msamplingFrequency\u001b[39;49m\u001b[38;5;124;43m'\u001b[39;49m\u001b[43m]\u001b[49m, elementPositions \u001b[38;5;241m=\u001b[39m data[\u001b[38;5;124m'\u001b[39m\u001b[38;5;124melementPositions\u001b[39m\u001b[38;5;124m'\u001b[39m], soundSpeed \u001b[38;5;241m=\u001b[39m data[\u001b[38;5;124m'\u001b[39m\u001b[38;5;124msoundSpeed\u001b[39m\u001b[38;5;124m'\u001b[39m], rcvData \u001b[38;5;241m=\u001b[39m data[\u001b[38;5;124m'\u001b[39m\u001b[38;5;124mrcvData\u001b[39m\u001b[38;5;124m'\u001b[39m])\n",
      "\u001b[1;31mTypeError\u001b[0m: string indices must be integers"
     ]
    }
   ],
   "source": [
    "data = 'data/ultrasound_reflection_data.mat'\n",
    "Image = runDAS(samplingFrequency = data['samplingFrequency'], elementPositions = data['elementPositions'], soundSpeed = data['soundSpeed'], rcvData = data['rcvData'])"
   ]
  }
 ],
 "metadata": {
  "kernelspec": {
   "display_name": "base",
   "language": "python",
   "name": "python3"
  },
  "language_info": {
   "codemirror_mode": {
    "name": "ipython",
    "version": 3
   },
   "file_extension": ".py",
   "mimetype": "text/x-python",
   "name": "python",
   "nbconvert_exporter": "python",
   "pygments_lexer": "ipython3",
   "version": "3.9.12"
  }
 },
 "nbformat": 4,
 "nbformat_minor": 2
}
