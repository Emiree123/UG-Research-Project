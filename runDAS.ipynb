{
 "cells": [
  {
   "cell_type": "code",
   "execution_count": null,
   "metadata": {},
   "outputs": [],
   "source": [
    "# Function containing all the preprossing data, and run the reconstruction\n",
    "import scipy.io\n",
    "import os\n",
    "import matplotlib.pyplot as plt\n",
    "from scipy import signal\n",
    "from scipy.fft import fft, fftshift\n",
    "from scipy.signal import hilbert\n",
    "from scipy.signal.windows import tukey \n",
    "import numpy as np\n",
    "import vectorised_hf as vhf"
   ]
  },
  {
   "cell_type": "code",
   "execution_count": null,
   "metadata": {},
   "outputs": [],
   "source": [
    "def runDAS(samplingFrequency, elementPositions, soundSpeed, rcvData):\n",
    "    samplingFrequency = data['samplingFrequency']\n",
    "    elementPositions = data['elementPositions']\n",
    "    soundSpeed = data['soundSpeed']\n",
    "    rcvData = data['rcvData']"
   ]
  }
 ],
 "metadata": {
  "language_info": {
   "name": "python"
  }
 },
 "nbformat": 4,
 "nbformat_minor": 2
}
