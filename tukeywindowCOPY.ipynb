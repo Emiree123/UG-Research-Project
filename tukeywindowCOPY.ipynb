{
 "cells": [
  {
   "cell_type": "code",
   "execution_count": 2,
   "metadata": {},
   "outputs": [
    {
     "ename": "SyntaxError",
     "evalue": "(unicode error) 'unicodeescape' codec can't decode bytes in position 4-5: truncated \\uXXXX escape (3061441806.py, line 10)",
     "output_type": "error",
     "traceback": [
      "\u001b[1;36m  Cell \u001b[1;32mIn[2], line 10\u001b[1;36m\u001b[0m\n\u001b[1;33m    data = scipy.io.loadmat('data\\ultrasound_reflection_data.mat' , variable_names=['__header__', '__version__', '__globals__', 'elementPositions', 'samplingFrequency', 'soundSpeed'])\u001b[0m\n\u001b[1;37m                                                                  ^\u001b[0m\n\u001b[1;31mSyntaxError\u001b[0m\u001b[1;31m:\u001b[0m (unicode error) 'unicodeescape' codec can't decode bytes in position 4-5: truncated \\uXXXX escape\n"
     ]
    }
   ],
   "source": [
    "import scipy.io\n",
    "import matplotlib.pyplot as plt\n",
    "from scipy import signal\n",
    "from scipy.fft import fft, fftshift\n",
    "from scipy.signal import hilbert\n",
    "from scipy.signal.windows import tukey \n",
    "import numpy as np\n",
    "\n",
    "# Load just the waveform from the data file\n",
    "data = scipy.io.loadmat('data\\ultrasound_reflection_data.mat' , variable_names=['__header__', '__version__', '__globals__', 'elementPositions', 'samplingFrequency', 'soundSpeed'])\n",
    "# Inspect the data type - it should be a dictionary\n",
    "print(type(data))\n",
    "print (data.keys())"
   ]
  },
  {
   "cell_type": "code",
   "execution_count": null,
   "metadata": {},
   "outputs": [],
   "source": [
    "# Extract the numpy arrays from the dictionary using their variable names\n",
    "rcvData = data['rcvData']\n",
    "samplingFrequency = data['samplingFrequency']\n",
    "elementPositions = data['elementPositions']\n",
    "soundSpeed = data['soundSpeed']\n",
    "waveform = rcvData \n",
    "\n",
    "# Verify the data type is a numpy array\n",
    "print(type(waveform))\n",
    "\n",
    "# Look at the shape of the waveform\n",
    "print(waveform.shape)"
   ]
  },
  {
   "cell_type": "code",
   "execution_count": null,
   "metadata": {},
   "outputs": [],
   "source": [
    "# Squeeze the waveform to make it 1D and compatible with other numpy vectors\n",
    "waveform = np.squeeze(waveform)\n",
    "\n",
    "# Verify this worked\n",
    "print(waveform.shape)"
   ]
  },
  {
   "cell_type": "markdown",
   "metadata": {},
   "source": [
    "    Apply a Tukey window to a given signal.\n",
    "\n",
    "    Parameters:\n",
    "    - signal: The input signal to which the Tukey window will be applied.\n",
    "    - alpha: The parameter controlling the shape of the Tukey window.\n",
    "         0 corresponds to a rectangular window, and 1 corresponds to a Hann window.\n",
    "         Values between 0 and 1 produce a Tukey window with intermediate shapes.\n",
    "    Returns:\n",
    "    - The input signal multiplied by the Tukey window."
   ]
  },
  {
   "cell_type": "code",
   "execution_count": null,
   "metadata": {},
   "outputs": [],
   "source": [
    "# Create and apply the window\n",
    "def tukey_window(waveform, alpha=0.1, noise_length=300):\n",
    "    max_val = np.max(waveform)\n",
    "    Nt = np.size(waveform)\n",
    "    Nwin = Nt - noise_length\n",
    "    window = tukey(Nwin, alpha)\n",
    "    padding = np.zeros((noise_length,))\n",
    "    print(padding)\n",
    "    #Squeeze the waveform so it has the same shape as the window, so the multiply function works properly\n",
    "    print(padding.shape)\n",
    "    print(window.shape)\n",
    "    final_window = np.concatenate([padding, window])\n",
    "    waveform = np.squeeze(waveform)\n",
    "    waveform_win = np.multiply(final_window , waveform)\n",
    "\n",
    "    # Plot the waveform\n",
    "    plt.figure(figsize=(10, 6))  # Set the size of the plot\n",
    "    plt.plot(waveform/max_val, waveform_win/max_val, color='blue', linestyle='-', linewidth=0.2)  # waveform and its window\n",
    "    plt.savefig('waveform.png', dpi=300)  # Saves the plot as a PNG file\n",
    "    plt.show()\n",
    "    return waveform_win"
   ]
  },
  {
   "cell_type": "code",
   "execution_count": null,
   "metadata": {},
   "outputs": [],
   "source": [
    "# Obtain and print the results\n",
    "result = tukey_window(waveform, alpha=0.5, noise_length =500)\n",
    "print(result)"
   ]
  },
  {
   "cell_type": "markdown",
   "metadata": {},
   "source": [
    "    Perform envelope detection on a given waveform.\n",
    "\n",
    "    Parameters:\n",
    "    - waveform_win: The input waveform to perform envelope detection on.\n",
    "\n",
    "    Returns:\n",
    "    - The envelope of the input waveform."
   ]
  },
  {
   "cell_type": "code",
   "execution_count": null,
   "metadata": {},
   "outputs": [],
   "source": [
    "# Function for envelope detection\n",
    "def envelope_detection(waveform_win):\n",
    "    analytic_signal = hilbert(waveform_win)\n",
    "    envelope = np.abs(analytic_signal)\n",
    "    # Compute and test the envelope function\n",
    "    envelope = envelope_detection(waveform_win)\n",
    "    return envelope"
   ]
  },
  {
   "cell_type": "markdown",
   "metadata": {},
   "source": [
    "    Pre-process ultrasound waveform data.\n",
    "\n",
    "    Parameters:\n",
    "    - waveform: The original ultrasound waveform data.\n",
    "    - alpha: Tukey window parameter.\n",
    "    - noise_length: Length of the noise signal to be zero-padded.\n",
    "\n",
    "    Returns:\n",
    "    - The pre-processed envelope data."
   ]
  },
  {
   "cell_type": "code",
   "execution_count": null,
   "metadata": {},
   "outputs": [],
   "source": [
    "# Function for pre-processing data\n",
    "def preProcessData(waveform, alpha=0.1, noise_length=300):\n",
    "    # Apply Tukey window\n",
    "    waveform_win = tukey_window(waveform, alpha, noise_length)\n",
    "    # Test the pre-processing function \n",
    "    envelope = preProcessData(waveform_win, alpha=0.5, noise_length=500)\n",
    "    return envelope"
   ]
  },
  {
   "cell_type": "code",
   "execution_count": null,
   "metadata": {},
   "outputs": [],
   "source": [
    "# Plot and save figures for different alpha and noise_length values\n",
    "alphas = [0.1, 0.5, 0.9]\n",
    "noise_lengths = [300, 500, 700]\n",
    "\n",
    "for alpha_val in alphas:\n",
    "    for noise_length_val in noise_lengths:\n",
    "        envelope = preProcessData(waveform, alpha=alpha_val, noise_length=noise_length_val)\n",
    "        plt.plot(envelope)\n",
    "        plt.title(f\"Alpha={alpha_val}, Noise Length={noise_length_val}\")\n",
    "        plt.xlabel(\"Sample Index\")\n",
    "        plt.ylabel(\"Envelope\")\n",
    "        plt.savefig(f\"envelopealpha{alpha_val}noise{noise_length_val}.png\")\n",
    "        plt.clf()"
   ]
  },
  {
   "cell_type": "markdown",
   "metadata": {},
   "source": [
    "    Create a 2D imaging grid.\n",
    "\n",
    "    Parameters:\n",
    "    - dx: Spacing between grid points.\n",
    "    - Lx: Total size of the grid.\n",
    "\n",
    "    Returns:\n",
    "    - X, Y: Meshgrid representing the imaging grid."
   ]
  },
  {
   "cell_type": "code",
   "execution_count": null,
   "metadata": {},
   "outputs": [],
   "source": [
    "# Imaging grid: \n",
    "def createImagingGrid(dx, Lx):\n",
    "    Nx = round(Lx / dx)\n",
    "    x_vec = np.arange(0, Nx) * dx - np.mean(np.arange(0, Nx) * dx)\n",
    "    X, Y = np.meshgrid(x_vec, x_vec)\n",
    "    return X, Y"
   ]
  },
  {
   "cell_type": "code",
   "execution_count": null,
   "metadata": {},
   "outputs": [],
   "source": [
    "# Test the create Imaging Grid function with dx = 0.0003 and Lx = 0.24\n",
    "dx = 0.0003\n",
    "Lx = 0.24\n",
    "X, Y = createImagingGrid(dx, Lx)"
   ]
  },
  {
   "cell_type": "code",
   "execution_count": null,
   "metadata": {},
   "outputs": [],
   "source": [
    "# Plot X and Y using plt.imshow\n",
    "plt.imshow(X, extent=(X.min(), X.max(), Y.min(), Y.max()))\n",
    "plt.colorbar(label=\"X\")\n",
    "plt.title(\"X Matrix\")\n",
    "plt.xlabel(\"X\")\n",
    "plt.ylabel(\"Y\")\n",
    "plt.savefig(\"X_matrix.png\")\n",
    "plt.clf()\n",
    "\n",
    "plt.imshow(Y, extent=(X.min(), X.max(), Y.min(), Y.max()))\n",
    "plt.colorbar(label=\"Y\")\n",
    "plt.title(\"Y Matrix\")\n",
    "plt.xlabel(\"X\")\n",
    "plt.ylabel(\"Y\")\n",
    "plt.savefig(\"Y_matrix.png\")"
   ]
  },
  {
   "cell_type": "markdown",
   "metadata": {},
   "source": [
    "    Calculate the travel time of ultrasound waves.\n",
    "\n",
    "    Parameters:\n",
    "    - Xt, Yt: Transmitter coordinates.\n",
    "    - Xr, Yr: Receiver coordinates.\n",
    "    - Xp, Yp: Pixel coordinates.\n",
    "    - soundSpeed: Speed of sound in the medium.\n",
    "\n",
    "    Returns:\n",
    "    - Travel time in seconds."
   ]
  },
  {
   "cell_type": "code",
   "execution_count": null,
   "metadata": {},
   "outputs": [],
   "source": [
    "def getTravelTime(Xt, Yt, Xr, Yr, Xp, Yp, soundSpeed):\n",
    "    # Calculate the distances\n",
    "    distance_tx_to_pixel = np.sqrt(2(Xt - Xp) + 2(Yt - Yp))\n",
    "    distance_pixel_to_rx = np.sqrt(2(Xr - Xp) + 2(Yr - Yp))\n",
    "\n",
    "    # Calculate the total travel distance\n",
    "    total_distance = distance_tx_to_pixel + distance_pixel_to_rx\n",
    "\n",
    "    # Convert distance to travel time\n",
    "    travelTime = total_distance / soundSpeed\n",
    "\n",
    "    return travelTime"
   ]
  },
  {
   "cell_type": "code",
   "execution_count": null,
   "metadata": {},
   "outputs": [],
   "source": [
    "# Example data from ultrasound_reflection_data.mat\n",
    "elementPositions = np.array([[Xt1, Yt1], [Xt2, Yt2], ...])  # Replace with actual data\n",
    "soundSpeed = 1500.0  # Replace with actual sound speed in m/s\n",
    "\n",
    "# Coordinates for the 1st transmitter and the 31st receiver (replace with actual indices)\n",
    "Xt = elementPositions[0, 0]\n",
    "Yt = elementPositions[0, 1]\n",
    "Xr = elementPositions[30, 0]\n",
    "Yr = elementPositions[30, 1]\n",
    "\n",
    "# Make an imaging grid and choose a random pixel\n",
    "X, Y = createImagingGrid(dx, Lx)  # Replace with actual values or use your existing grid\n",
    "Xp = X[300, 400]  # Replace with the desired pixel coordinates\n",
    "Yp = Y[300, 400]"
   ]
  },
  {
   "cell_type": "code",
   "execution_count": null,
   "metadata": {},
   "outputs": [],
   "source": [
    "# Calculate the travel time\n",
    "travelTime = getTravelTime(Xt, Yt, Xr, Yr, Xp, Yp, soundSpeed)\n",
    "print(f\"Travel Time: {travelTime} seconds ({travelTime * 1e6} microseconds)\")"
   ]
  }
 ],
 "metadata": {
  "kernelspec": {
   "display_name": "Python 3",
   "language": "python",
   "name": "python3"
  },
  "language_info": {
   "codemirror_mode": {
    "name": "ipython",
    "version": 3
   },
   "file_extension": ".py",
   "mimetype": "text/x-python",
   "name": "python",
   "nbconvert_exporter": "python",
   "pygments_lexer": "ipython3",
   "version": "3.10.11"
  }
 },
 "nbformat": 4,
 "nbformat_minor": 2
}
