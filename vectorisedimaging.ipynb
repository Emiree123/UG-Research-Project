{
 "cells": [
  {
   "cell_type": "code",
   "execution_count": null,
   "metadata": {},
   "outputs": [],
   "source": [
    "import scipy.io\n",
    "import os\n",
    "import matplotlib.pyplot as plt\n",
    "from scipy import signal\n",
    "from scipy.fft import fft, fftshift\n",
    "from scipy.signal import hilbert\n",
    "from scipy.signal.windows import tukey \n",
    "import numpy as np\n",
    "import helper_functions as hf\n",
    "import vectorised_hf as vhf\n",
    "\n",
    "# Load just the waveform from the data file\n",
    "data = scipy.io.loadmat('data/ultrasound_reflection_data.mat', variable_names=['__header__', '__version__', '__globals__', 'elementPositions', 'samplingFrequency', 'soundSpeed','waveform', 'rcvData'])\n",
    "waveform = data['waveform']\n",
    "print(type(data))\n",
    "print (data.keys())\n"
   ]
  },
  {
   "cell_type": "code",
   "execution_count": null,
   "metadata": {},
   "outputs": [],
   "source": [
    "# Extract the numpy arrays from the dictionary using their variable names\n",
    "samplingFrequency = data['samplingFrequency']\n",
    "elementPositions = data['elementPositions']\n",
    "soundSpeed = data['soundSpeed']\n",
    "rcvData = data['rcvData']\n",
    "Ntx, Nrx, Nt = rcvData.shape"
   ]
  },
  {
   "cell_type": "code",
   "execution_count": null,
   "metadata": {},
   "outputs": [],
   "source": [
    "rawData2d = rcvData.reshape(Ntx * Nrx, Nt)\n",
    "envelope2d = vhf.preProcessedDataVectorised(rawData2d, alpha=0.1, noise_length=300)\n"
   ]
  },
  {
   "cell_type": "code",
   "execution_count": null,
   "metadata": {},
   "outputs": [],
   "source": [
    "plt.plot (envelope2d[1,:])"
   ]
  },
  {
   "cell_type": "code",
   "execution_count": null,
   "metadata": {},
   "outputs": [],
   "source": [
    "\n",
    "# plt.plot(envelope)\n",
    "envelope_3d = vhf.reshapeTo3D(envelope2d)"
   ]
  },
  {
   "cell_type": "code",
   "execution_count": null,
   "metadata": {},
   "outputs": [],
   "source": [
    "# Test the create Imaging Grid function with dx = 0.0003 and Lx = 0.24\n",
    "dx = 0.002 \n",
    "Lx = 0.24\n",
    "X, Y = hf.createImagingGrid(dx, Lx)\n",
    "Npx = X.size\n",
    "print(Npx)"
   ]
  },
  {
   "cell_type": "code",
   "execution_count": null,
   "metadata": {},
   "outputs": [],
   "source": [
    "# Precompute the distance map here [m]\n",
    "\n",
    "# Convert this to a delay map [s]\n",
    "\n",
    "# Convert this to a sample index travel time map [samples]"
   ]
  },
  {
   "cell_type": "code",
   "execution_count": null,
   "metadata": {},
   "outputs": [],
   "source": [
    "# Initialise accumulator\n",
    "accumulator = 0"
   ]
  },
  {
   "cell_type": "code",
   "execution_count": null,
   "metadata": {},
   "outputs": [],
   "source": [
    "accumulated_values = np.zeros(X.shape)"
   ]
  },
  {
   "cell_type": "code",
   "execution_count": null,
   "metadata": {},
   "outputs": [],
   "source": [
    "total_pixels = X.shape[0] * X.shape[1]\n",
    "current_pixel = 0\n",
    "\n",
    "for pixel_row in range(X.shape[0]):\n",
    "    for pixel_col in range(X.shape[1]):\n",
    "        accumulator = 0\n",
    "        Xp = X[pixel_row, pixel_col]\n",
    "        Yp = Y[pixel_row, pixel_col]\n",
    "        # Loop over all transmitters and receivers\n",
    "        for Tx in [0]: \n",
    "            for Rx in range(256):  \n",
    "                x = hf.accumulate_signal(Tx, Rx, Xp, Yp, elementPositions, soundSpeed, samplingFrequency, rcvData) # Not sure how to include processed data, \n",
    "                                                                             # since the 3d matrix is embedded back into the accumulate function, instead of the pre processed vectorisation function\n",
    "        accumulated_values[pixel_row, pixel_col] = accumulator\n",
    "        # Update progress\n",
    "        current_pixel += 1\n",
    "        percentage_completed = (current_pixel / total_pixels) * 100\n",
    "        print(f\"{percentage_completed:.2f}%\", end='\\r') # prints to 2dp, with a return"
   ]
  },
  {
   "cell_type": "code",
   "execution_count": null,
   "metadata": {},
   "outputs": [],
   "source": [
    "# Plot X and Y using plt.imshow\n",
    "plt.imshow(accumulated_values)"
   ]
  }
 ],
 "metadata": {
  "kernelspec": {
   "display_name": "Python 3",
   "language": "python",
   "name": "python3"
  },
  "language_info": {
   "codemirror_mode": {
    "name": "ipython",
    "version": 3
   },
   "file_extension": ".py",
   "mimetype": "text/x-python",
   "name": "python",
   "nbconvert_exporter": "python",
   "pygments_lexer": "ipython3",
   "version": "3.9.12"
  }
 },
 "nbformat": 4,
 "nbformat_minor": 2
}
