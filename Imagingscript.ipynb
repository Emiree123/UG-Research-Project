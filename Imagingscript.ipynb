{
 "cells": [
  {
   "cell_type": "code",
   "execution_count": 47,
   "metadata": {},
   "outputs": [],
   "source": [
    "import scipy.io\n",
    "import os\n",
    "import matplotlib.pyplot as plt\n",
    "from scipy import signal\n",
    "from scipy.fft import fft, fftshift\n",
    "from scipy.signal import hilbert\n",
    "from scipy.signal.windows import tukey \n",
    "import numpy as np\n",
    "import vectorised_hf as vhf\n",
    "\n",
    "# Load just the waveform from the data file\n",
    "data = scipy.io.loadmat('data/ultrasound_reflection_data.mat', variable_names=['__header__', '__version__', '__globals__', 'elementPositions', 'samplingFrequency', 'soundSpeed','waveform', 'rcvData'])\n",
    "folder_path = 'data'"
   ]
  },
  {
   "cell_type": "code",
   "execution_count": 48,
   "metadata": {},
   "outputs": [
    {
     "name": "stdout",
     "output_type": "stream",
     "text": [
      "(2560,)\n",
      "256.0\n",
      "256.0\n",
      "167772160\n"
     ]
    }
   ],
   "source": [
    "# Extract the numpy arrays from the dictionary using their variable names\n",
    "samplingFrequency = data['samplingFrequency']\n",
    "elementPositions = data['elementPositions']\n",
    "soundSpeed = data['soundSpeed']\n",
    "rcvData = data['rcvData']\n",
    "\n",
    "Ntx, Nrx, Nt = rcvData.shape\n",
    "rcvData2D = rcvData.reshape(Ntx*Nrx, Nt)\n",
    "winData2D = vhf.tukey_vectorised(rcvData2D,  alpha=0.1, noise_Length=300)\n",
    "test_env = vhf.envelope_detection(winData2D)\n",
    "\n",
    "nTx = 255 # Number of transmitters\n",
    "nRx = 255 # Number of receivers\n",
    "nt = 2559 # Time samples\n",
    "dx = 0.003  # Grid spacing\n",
    "Lx = 0.12    # Size of the grid\n",
    "speedOfSound = 1540  # Speed of sound in m/s (typical for soft tissues)\n",
    "\n",
    "# Create imaging vector\n",
    "Xp, Yp = vhf.createImagingVector(dx, Lx)\n",
    "\n",
    "# Detector coordinates (example values)\n",
    "Xd = elementPositions[:,0]  # X coordinates of detectors\n",
    "Yd = elementPositions[:,1]  # Y coordinates of detectors\n",
    "\n",
    "# Xd, Xp, Yd and Yp are in 1D, this means that the function cannot run, since they don't have an overlapping dimension to be multipled by\n",
    "# The following code makes the 'points' 2D and transposes the matrices so that they are in the right row to column order, before running the distance map function\n",
    "Xd2D = Xd.reshape(-1,1)\n",
    "Xp2D = Xp.reshape(-1,1)\n",
    "Yd2D = Yd.reshape(-1,1)\n",
    "Yp2D = Yp.reshape(-1,1)\n",
    "Yd2DT = Yd2D.T\n",
    "Xd2dT = Xd2D.T\n",
    "# Calculate distance map\n",
    "distanceMap = vhf.calculateDistanceMap(Xd2dT, Yd2DT, Xp2D, Yp2D)\n",
    "# Convert distance map to time map\n",
    "timeMap = vhf.timeMap(distanceMap, speedOfSound)\n",
    "\n",
    "# Initialise accumulator\n",
    "accumulator = 0\n",
    "\n",
    "accumulated_values = np.zeros(Xd2dT.shape)\n",
    "\n",
    "# Plot X and Y using plt.imshow\n",
    "# plt.imshow(accumulated_values)"
   ]
  },
  {
   "cell_type": "code",
   "execution_count": 49,
   "metadata": {},
   "outputs": [],
   "source": [
    "# Make the 2D envelope back into 3D for ease of indexing\n",
    "envData3D = test_env.reshape(Ntx, Nrx, Nt)"
   ]
  },
  {
   "cell_type": "code",
   "execution_count": 50,
   "metadata": {},
   "outputs": [
    {
     "data": {
      "text/plain": [
       "<matplotlib.image.AxesImage at 0x254a011f5e0>"
      ]
     },
     "execution_count": 50,
     "metadata": {},
     "output_type": "execute_result"
    },
    {
     "data": {
      "image/png": "[encoded data removed]",
      "text/plain": [
       "<Figure size 640x480 with 1 Axes>"
      ]
     },
     "metadata": {},
     "output_type": "display_data"
    }
   ],
   "source": [
    "accumulator = np.zeros_like(Xp2D) \n",
    "for Tx in range (0,nTx,4): # All the transmiters from 0 to 255,  going up in increments of 8\n",
    "    for Rx in range (nRx):\n",
    "        # Masking task! \n",
    "        # Loop over all the receivers, with only 1 transmitter, the pixel has been vectorised and will not be looped over\n",
    "        #  Have a 'time' from the transmitter to the pixel, then the pixel to the receiver for the total time\n",
    "        T1 = timeMap[:,Tx]\n",
    "        T2 = timeMap[:,Rx] \n",
    "        total_time = T1 + T2\n",
    "        # Convert travel time to sample index\n",
    "        sample_index = vhf.time_to_sample_index(total_time, samplingFrequency)\n",
    "        sample_index = sample_index.astype(int)\n",
    "        valid =  np.logical_and(sample_index < nt, sample_index >= 0)\n",
    "        extract = envData3D[Tx,Rx,sample_index[valid]]  \n",
    "        accumulator[valid.T]= accumulator[valid.T] + extract\n",
    "        np.sum(extract)\n",
    "n = np.size(accumulator)\n",
    "x = int(np.sqrt(n))\n",
    "finalImage = np.reshape(accumulator,(x,x))\n",
    "plt.imshow(finalImage)\n"
   ]
  }
 ],
 "metadata": {
  "kernelspec": {
   "display_name": "base",
   "language": "python",
   "name": "python3"
  },
  "language_info": {
   "codemirror_mode": {
    "name": "ipython",
    "version": 3
   },
   "file_extension": ".py",
   "mimetype": "text/x-python",
   "name": "python",
   "nbconvert_exporter": "python",
   "pygments_lexer": "ipython3",
   "version": "3.9.12"
  }
 },
 "nbformat": 4,
 "nbformat_minor": 2
}
