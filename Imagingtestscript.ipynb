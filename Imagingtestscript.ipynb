total_pixels = X.shape[0] * X.shape[1]
current_pixel = 0

for pixel_row in range(X.shape[0]):
    for pixel_col in range(X.shape[1]):
        accumulator = 0
        Xp = X[pixel_row, pixel_col]
        Yp = Y[pixel_row, pixel_col]
        # Check if elementPositions has the correct shape
        if elementPositions.shape !=(2,256):
            raise ValueError('elementPositions shape is not (2,256)')

        # Loop over all transmitters and receivers
        for Tx in [0]: 
            for Rx in range(256):  
                # Check if Tx and Rx are in range
                if Tx >= elementPositions.shape[1] or Rx >= elementPositions.shape[1]:
                    raise IndexError('Tx or Rx index out of range')
                x = vhf.accumulate_signal(Tx, Rx, Xp, Yp, elementPositions, soundSpeed, samplingFrequency, rcvData) # Not sure how to include processed data, 
                accumulator += x                                                            # since the 3d matrix is embedded back into the accumulate function, instead of the pre processed vectorisation function
        accumulated_values[pixel_row, pixel_col] = accumulator
        # Update progress
        current_pixel += 1
        percentage_completed = (current_pixel / total_pixels) * 100
        print(f"{percentage_completed:.2f}%", end='\r') # prints to 2dp, with a return