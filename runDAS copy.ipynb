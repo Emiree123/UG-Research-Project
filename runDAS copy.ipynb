{
 "cells": [
  {
   "cell_type": "code",
   "execution_count": 35,
   "metadata": {},
   "outputs": [
    {
     "data": {
      "image/png": "[encoded data removed]",
      "text/plain": [
       "<Figure size 640x480 with 1 Axes>"
      ]
     },
     "metadata": {},
     "output_type": "display_data"
    }
   ],
   "source": [
    "# Function containing all the preprossing data, and run the reconstruction\n",
    "import scipy.io\n",
    "import os\n",
    "import matplotlib.pyplot as plt\n",
    "from scipy.io import loadmat\n",
    "from scipy import signal\n",
    "from scipy.fft import fft, fftshift\n",
    "from scipy.signal import hilbert\n",
    "from scipy.signal.windows import tukey \n",
    "import numpy as np\n",
    "import vectorised_hf as vhf\n",
    "import h5py \n",
    "from matplotlib import colormaps as cm\n",
    "\n",
    "#data = scipy.io.loadmat('data/ultrasound_reflection_data.mat', variable_names=['__header__', '__version__', '__globals__', 'elementPositions', 'soundSpeed'])\n",
    "#data2 = scipy.io.loadmat('data/25-01-2024-Open-UST-Heart1-settings.mat')\n",
    "#samplingFrequency =data2['settings']['AcqSamplingFrequency']\n",
    "#samplingFrequency = samplingFrequency[0][0]\n",
    "data = scipy.io.loadmat('data/ultrasound_reflection_data.mat', variable_names=['__header__', '__version__', '__globals__', 'elementPositions', 'samplingFrequency', 'soundSpeed'])\n",
    "data2 = scipy.io.loadmat('data/ideal_element_positions.mat', variable_names=['angle_TxNorm_to_RxNorm'])\n",
    "angleMap = data2['angle_TxNorm_to_RxNorm']\n",
    "angleMask = angleMap > 110\n",
    "plt.figure(1)\n",
    "plt.imshow(angleMask)\n",
    "\n",
    "#  Open the HDF5 file\n",
    "with h5py.File('data/25-01-2024-Open-UST-Kidney2-data.h5','r') as file: \n",
    "    # Load the 3D array\n",
    "    rcvData =  file['ustData'][:,:,:]"
   ]
  },
  {
   "cell_type": "code",
   "execution_count": 36,
   "metadata": {},
   "outputs": [],
   "source": [
    "def runDAS(samplingFrequency, elementPositions, soundSpeed, rcvData):\n",
    "    nTx = 255 # Number of transmitters\n",
    "    nRx = 255 # Number of receivers\n",
    "    nt = 2560 # Time samples\n",
    "    dx = 0.0005 # Grid spacing\n",
    "    Lx = 0.09    # Size of the grid\n",
    "    Ntx, Nrx, Nt = rcvData.shape\n",
    "    rcvData2D = rcvData.reshape(Ntx*Nrx, Nt)\n",
    "    winData2D = vhf.tukey_vectorised(rcvData2D, alpha=0.1, noise_Length=300)\n",
    "    test_env = vhf.envelope_detection(winData2D)\n",
    "    print(rcvData2D.shape)\n",
    "    print(winData2D.shape)\n",
    "    print(test_env.shape)\n",
    "\n",
    "    # Create imaging vector\n",
    "    Xp, Yp = vhf.createImagingVector(dx, Lx)\n",
    "    # Detector coordinates (example values)\n",
    "    Xd = elementPositions[:,0]  # X coordinates of detectors\n",
    "    Yd = elementPositions[:,1]  # Y coordinates of detectors\n",
    "\n",
    "    # Xd, Xp, Yd and Yp are in 1D, this means that the function cannot run, since they don't have an overlapping dimension to be multipled by\n",
    "    # The following code makes the 'points' 2D and transposes the matrices so that they are in the right row to column order, before running the distance map function\n",
    "    Xd2D = Xd.reshape(-1,1)\n",
    "    Xp2D = Xp.reshape(-1,1)\n",
    "    Yd2D = Yd.reshape(-1,1)\n",
    "    Yp2D = Yp.reshape(-1,1)\n",
    "    Yd2DT = Yd2D.T\n",
    "    Xd2dT = Xd2D.T\n",
    "    # Calculate distance map\n",
    "    distanceMap = vhf.calculateDistanceMap(Xd2dT, Yd2DT, Xp2D, Yp2D)\n",
    "    #   Convert distance map to time map\n",
    "    timeMap = vhf.timeMap(distanceMap, soundSpeed)\n",
    "\n",
    "    # Initialise accumulator\n",
    "    accumulator = 0\n",
    "    # accumulated_values = np.zeros(Xd2dT.shape)\n",
    "\n",
    "    # Make the 2D envelope back into 3D for ease of indexing\n",
    "    envData3D = test_env.reshape(Ntx, Nrx, Nt)\n",
    "\n",
    "    # Calculate normal vector of each module\n",
    "    Nmodule = 16\n",
    "    deltaTheta = 360/Nmodule\n",
    "    moduleNormals = np.arange(0,360,deltaTheta)\n",
    "    moduleNormals2 = moduleNormals.reshape(-1,1)\n",
    "    moduleNormals2T =  moduleNormals2.T\n",
    "    # Calculate the normal vector for each individual element\n",
    "    elementNormals = np.tile(moduleNormals2T,(Nmodule,1))\n",
    "    elementNormals = elementNormals.flatten('F')\n",
    "    sinvals = np.sin(elementNormals * np.pi / 180).reshape(-1,1)\n",
    "    cosvals = np.cos(elementNormals * np.pi / 180).reshape(-1,1)\n",
    "    elementNormalVec = np.concatenate([sinvals,cosvals],1)\n",
    "\n",
    "\n",
    "    Npx = Xp.size\n",
    "    angle_map = np.zeros((Npx, Ntx));\n",
    "    for idx in range(Ntx):\n",
    "        vector_map = elementPositions[idx,:] - np.concatenate([Xp2D, Yp2D], 1)\n",
    "        z = np.sqrt( np.sum(vector_map**2, 1) )\n",
    "        z = z.reshape(-1,1)\n",
    "        a = (vector_map /  z).T\n",
    "        y = elementNormalVec[idx,:].T\n",
    "        y = y.reshape(-1,1)\n",
    "        b = np.tile(y, (1, Npx))\n",
    "        c = a[0,:]*b[0,:] + a[1,:]*b[1,:] \n",
    "        c = c.reshape(-1,1).T\n",
    "        d = np.arccos(c) * 180 / np.pi\n",
    "        d = d.T\n",
    "        d = np.squeeze(d)\n",
    "        angle_map[:,idx] = d\n",
    "\n",
    "\n",
    "\n",
    "    accumulator = np.zeros_like(Xp2D) \n",
    "    for Tx in range (0): # All the transmiters from 0 to 255,  going up in increments of 8\n",
    "        for Rx in range (nRx):\n",
    "            if angleMask[Tx, Rx]:\n",
    "                n = np.size(accumulator)\n",
    "                x = int(np.sqrt(n))\n",
    "    # for Tx in [0]:\n",
    "    #     for Rx in [64]:\n",
    "                # Masking task! \n",
    "                # Loop over all the receivers, with only 1 transmitter, the pixel has been vectorised and will not be looped over\n",
    "                #  Have a 'time' from the transmitter to the pixel, then the pixel to the receiver for the total time\n",
    "                T1 = timeMap[:,Tx]\n",
    "                T2 = timeMap[:,Rx] \n",
    "                total_time = T1 + T2\n",
    "                # Convert travel time to sample index\n",
    "                sample_index = vhf.time_to_sample_index(total_time, samplingFrequency)\n",
    "                sample_index = sample_index.astype(int)\n",
    "                valid =  np.logical_and(sample_index < nt-1, sample_index >= 0)\n",
    "                extract = envData3D[Tx,Rx,sample_index[valid]]  \n",
    "\n",
    "                # calculate the weighting factor for this tx/rx pair\n",
    "                angleWeighting = np.abs(np.cos(angle_map[:,Tx] * np.pi / 180)) * np.abs(np.cos(angle_map[:,Rx] * np.pi / 180))\n",
    "                \n",
    "                angleWeighting = angleWeighting[np.squeeze(valid)]           \n",
    "                extract = extract * angleWeighting\n",
    "\n",
    "                #plt.figure(1)\n",
    "                #plt.plot(envData3D[Tx, Rx, :])\n",
    "                accumulator[valid.T]= accumulator[valid.T] + extract\n",
    "                np.sum(extract)\n",
    "\n",
    "                \n",
    "    x = int(np.sqrt(Npx))\n",
    "    finalImage = np.reshape(accumulator,(x,x))\n",
    "    plt.figure(4)\n",
    "    plt.imshow(20*np.log10(finalImage))\n",
    "    # Figure out how to change the colour of a plt imshow\n",
    "    plt.imshow(finalImage, cmap='gray')\n",
    "    plt.show()\n",
    "    return finalImage\n"
   ]
  },
  {
   "cell_type": "code",
   "execution_count": 37,
   "metadata": {},
   "outputs": [
    {
     "name": "stdout",
     "output_type": "stream",
     "text": [
      "(2560,)\n",
      "256.0\n",
      "256.0\n",
      "167772160\n",
      "(65536, 2560)\n",
      "(65536, 2560)\n",
      "(65536, 2560)\n"
     ]
    },
    {
     "name": "stderr",
     "output_type": "stream",
     "text": [
      "C:\\Users\\Morgan\\AppData\\Local\\Temp\\ipykernel_12048\\2956287523.py:109: RuntimeWarning: divide by zero encountered in log10\n",
      "  plt.imshow(20*np.log10(finalImage))\n"
     ]
    },
    {
     "data": {
      "image/png": "[encoded data removed]",
      "text/plain": [
       "<Figure size 640x480 with 1 Axes>"
      ]
     },
     "metadata": {},
     "output_type": "display_data"
    }
   ],
   "source": [
    "Image = runDAS(samplingFrequency = data['samplingFrequency'], elementPositions = data['elementPositions'], soundSpeed = data['soundSpeed'], rcvData = rcvData)"
   ]
  }
 ],
 "metadata": {
  "kernelspec": {
   "display_name": "base",
   "language": "python",
   "name": "python3"
  },
  "language_info": {
   "codemirror_mode": {
    "name": "ipython",
    "version": 3
   },
   "file_extension": ".py",
   "mimetype": "text/x-python",
   "name": "python",
   "nbconvert_exporter": "python",
   "pygments_lexer": "ipython3",
   "version": "3.9.12"
  }
 },
 "nbformat": 4,
 "nbformat_minor": 2
}
