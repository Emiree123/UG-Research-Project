{
 "cells": [
  {
   "cell_type": "code",
   "execution_count": 3,
   "metadata": {},
   "outputs": [
    {
     "name": "stdout",
     "output_type": "stream",
     "text": [
      "<class 'dict'>\n",
      "dict_keys(['__header__', '__version__', '__globals__', 'elementPositions', 'rcvData', 'samplingFrequency', 'soundSpeed', 'waveform'])\n"
     ]
    }
   ],
   "source": [
    "import scipy.io\n",
    "import os\n",
    "import matplotlib.pyplot as plt\n",
    "from scipy import signal\n",
    "from scipy.fft import fft, fftshift\n",
    "from scipy.signal import hilbert\n",
    "from scipy.signal.windows import tukey \n",
    "import numpy as np\n",
    "import vectorised_hf as vhf\n",
    "\n",
    "# Load just the waveform from the data file\n",
    "data = scipy.io.loadmat('data/ultrasound_reflection_data.mat', variable_names=['__header__', '__version__', '__globals__', 'elementPositions', 'samplingFrequency', 'soundSpeed','waveform', 'rcvData'])\n",
    "waveform = data['waveform']\n",
    "print(type(data))\n",
    "print (data.keys())\n",
    "folder_path = 'data'"
   ]
  },
  {
   "cell_type": "code",
   "execution_count": 5,
   "metadata": {},
   "outputs": [
    {
     "name": "stdout",
     "output_type": "stream",
     "text": [
      "(2560,)\n",
      "256.0\n",
      "256.0\n",
      "167772160\n",
      "(10000, 1)\n",
      "(1, 256)\n"
     ]
    },
    {
     "data": {
      "text/plain": [
       "<matplotlib.image.AxesImage at 0x2a83702aee0>"
      ]
     },
     "execution_count": 5,
     "metadata": {},
     "output_type": "execute_result"
    },
    {
     "data": {
      "image/png": "[encoded data removed]",
      "text/plain": [
       "<Figure size 640x480 with 1 Axes>"
      ]
     },
     "metadata": {},
     "output_type": "display_data"
    }
   ],
   "source": [
    "# Extract the numpy arrays from the dictionary using their variable names\n",
    "waveform = data['waveform']\n",
    "samplingFrequency = data['samplingFrequency']\n",
    "elementPositions = data['elementPositions']\n",
    "soundSpeed = data['soundSpeed']\n",
    "rcvData = data['rcvData']\n",
    "\n",
    "Ntx, Nrx, Nt = rcvData.shape\n",
    "rcvData2D = rcvData.reshape(Ntx*Nrx, Nt)\n",
    "winData2D = vhf.tukey_vectorised(rcvData2D,  alpha=0.1, noise_Length=300)\n",
    "test_env = vhf.envelope_detection(winData2D)\n",
    "\n",
    "\n",
    "dx = 0.001  # Grid spacing\n",
    "Lx = 0.1    # Size of the grid\n",
    "speedOfSound = 1540  # Speed of sound in m/s (typical for soft tissues)\n",
    "\n",
    "# Create imaging vector\n",
    "Xp, Yp = vhf.createImagingVector(dx, Lx)\n",
    "\n",
    "# Detector coordinates (example values)\n",
    "Xd = elementPositions[:,0]  # X coordinates of detectors\n",
    "Yd = elementPositions[:,1]  # Y coordinates of detectors\n",
    "\n",
    "# Xd, Xp, Yd and Yp are in 1D, this means that the function cannot run, since they don't have an overlapping dimension to be multipled by\n",
    "# The following code makes the 'points' 2D and transposes the matrices so that they are in the right row to column order, before running the distance map function\n",
    "Xd2D = Xd.reshape(-1,1)\n",
    "Xp2D = Xp.reshape(-1,1)\n",
    "Yd2D = Yd.reshape(-1,1)\n",
    "Yp2D = Yp.reshape(-1,1)\n",
    "Yd2DT = Yd2D.T\n",
    "Xd2dT = Xd2D.T\n",
    "print(Xp2D.shape)\n",
    "print(Xd2dT.shape)\n",
    "# Calculate distance map\n",
    "distanceMap = vhf.calculateDistanceMap(Xd2dT, Yd2DT, Xp2D, Yp2D)\n",
    "plt.imshow(distanceMap)\n",
    "# plt.set_aspect('equal','box'), figure out how to draw this correctly\n",
    "# Convert distance map to time map\n",
    "timeMap = vhf.timeMap(distanceMap, speedOfSound)\n",
    "\n",
    "# Initialise accumulator\n",
    "accumulator = 0\n",
    "\n",
    "accumulated_values = np.zeros(Xd2dT.shape)\n",
    "\n",
    "# Plot X and Y using plt.imshow\n",
    "plt.imshow(accumulated_values)"
   ]
  },
  {
   "cell_type": "code",
   "execution_count": 9,
   "metadata": {},
   "outputs": [
    {
     "name": "stdout",
     "output_type": "stream",
     "text": [
      "(10000,)\n",
      "(10000,)\n",
      "[[0.00021307]\n",
      " [0.00021283]\n",
      " [0.0002126 ]\n",
      " ...\n",
      " [0.00011823]\n",
      " [0.00011918]\n",
      " [0.00012014]]\n"
     ]
    },
    {
     "ename": "TypeError",
     "evalue": "only size-1 arrays can be converted to Python scalars",
     "output_type": "error",
     "traceback": [
      "\u001b[1;31m---------------------------------------------------------------------------\u001b[0m",
      "\u001b[1;31mTypeError\u001b[0m                                 Traceback (most recent call last)",
      "\u001b[1;32mc:\\Users\\Morgan\\Desktop\\Emily Lim\\UG-Research-Project\\Imagingtestscript.ipynb Cell 3\u001b[0m line \u001b[0;36m1\n\u001b[0;32m      <a href='vscode-notebook-cell:/c%3A/Users/Morgan/Desktop/Emily%20Lim/UG-Research-Project/Imagingtestscript.ipynb#W3sZmlsZQ%3D%3D?line=8'>9</a>\u001b[0m \u001b[39mprint\u001b[39m(total_time)\n\u001b[0;32m     <a href='vscode-notebook-cell:/c%3A/Users/Morgan/Desktop/Emily%20Lim/UG-Research-Project/Imagingtestscript.ipynb#W3sZmlsZQ%3D%3D?line=9'>10</a>\u001b[0m \u001b[39m# Convert travel time to sample index\u001b[39;00m\n\u001b[1;32m---> <a href='vscode-notebook-cell:/c%3A/Users/Morgan/Desktop/Emily%20Lim/UG-Research-Project/Imagingtestscript.ipynb#W3sZmlsZQ%3D%3D?line=10'>11</a>\u001b[0m sample_index \u001b[39m=\u001b[39m vhf\u001b[39m.\u001b[39;49mtime_to_sample_index(total_time, samplingFrequency)\n\u001b[0;32m     <a href='vscode-notebook-cell:/c%3A/Users/Morgan/Desktop/Emily%20Lim/UG-Research-Project/Imagingtestscript.ipynb#W3sZmlsZQ%3D%3D?line=11'>12</a>\u001b[0m \u001b[39mprint\u001b[39m(sample_index\u001b[39m.\u001b[39mshape)\n",
      "File \u001b[1;32mc:\\Users\\Morgan\\Desktop\\Emily Lim\\UG-Research-Project\\vectorised_hf.py:114\u001b[0m, in \u001b[0;36mtime_to_sample_index\u001b[1;34m(time, sample_frequency)\u001b[0m\n\u001b[0;32m    113\u001b[0m \u001b[39mdef\u001b[39;00m \u001b[39mtime_to_sample_index\u001b[39m(time, sample_frequency):\n\u001b[1;32m--> 114\u001b[0m     \u001b[39mreturn\u001b[39;00m \u001b[39mint\u001b[39;49m(time \u001b[39m*\u001b[39;49m sample_frequency)\n",
      "\u001b[1;31mTypeError\u001b[0m: only size-1 arrays can be converted to Python scalars"
     ]
    }
   ],
   "source": [
    "for Rx in range (255):\n",
    "    # Loop over all the receivers, with only 1 transmitter, the pixel has been vectorised and will not be looped over\n",
    "    accumulator = 0\n",
    "    #  Have a 'time' from the transmitter to the pixel, then the pixel to the receiver for the total time\n",
    "    T1 = timeMap[:,0]\n",
    "    T2 = timeMap[:,Rx] \n",
    "    total_time = (T1 + T2).reshape(-1,1)\n",
    "    total_time = total_time.reshape(-1,1)\n",
    "    print(T1.shape)\n",
    "    print(T2.shape)\n",
    "    print(total_time)\n",
    "    # Convert travel time to sample index\n",
    "    sample_index = vhf.time_to_sample_index(total_time, samplingFrequency)\n",
    "    print(sample_index.shape)"
   ]
  },
  {
   "cell_type": "code",
   "execution_count": null,
   "metadata": {},
   "outputs": [],
   "source": [
    "\n",
    "\n",
    "total_pixels = X.shape[0] * X.shape[1]\n",
    "current_pixel = 0\n",
    "\n",
    "for pixel_row in range(X.shape[0]):\n",
    "    for pixel_col in range(X.shape[1]):\n",
    "        accumulator = 0\n",
    "        Xp = X[pixel_row, pixel_col]\n",
    "        Yp = Y[pixel_row, pixel_col]\n",
    "        # Check if elementPositions has the correct shape\n",
    "        if elementPositions.shape !=(2,256):\n",
    "            raise ValueError('elementPositions shape is not (2,256)')\n",
    "\n",
    "        # Loop over all transmitters and receivers\n",
    "        for Tx in [0]: \n",
    "            for Rx in range(256):  \n",
    "                # Check if Tx and Rx are in range\n",
    "                if Tx >= elementPositions.shape[1] or Rx >= elementPositions.shape[1]:\n",
    "                    raise IndexError('Tx or Rx index out of range')\n",
    "                x = vhf.accumulate_signal(Tx, Rx, Xp, Yp, elementPositions, soundSpeed, samplingFrequency, rcvData) # Not sure how to include processed data, \n",
    "                accumulator += x                                                            # since the 3d matrix is embedded back into the accumulate function, instead of the pre processed vectorisation function\n",
    "        accumulated_values[pixel_row, pixel_col] = accumulator\n",
    "        # Update progress\n",
    "        current_pixel += 1\n",
    "        percentage_completed = (current_pixel / total_pixels) * 100\n",
    "        print(f\"{percentage_completed:.2f}%\", end='\\r') # prints to 2dp, with a return"
   ]
  }
 ],
 "metadata": {
  "kernelspec": {
   "display_name": "base",
   "language": "python",
   "name": "python3"
  },
  "language_info": {
   "codemirror_mode": {
    "name": "ipython",
    "version": 3
   },
   "file_extension": ".py",
   "mimetype": "text/x-python",
   "name": "python",
   "nbconvert_exporter": "python",
   "pygments_lexer": "ipython3",
   "version": "3.9.12"
  }
 },
 "nbformat": 4,
 "nbformat_minor": 2
}
