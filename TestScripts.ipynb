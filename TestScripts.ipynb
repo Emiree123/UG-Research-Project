{
 "cells": [
  {
   "cell_type": "code",
   "execution_count": null,
   "metadata": {},
   "outputs": [],
   "source": [
    "import scipy.io\n",
    "import os\n",
    "import matplotlib.pyplot as plt\n",
    "from scipy import signal\n",
    "from scipy.fft import fft, fftshift\n",
    "from scipy.signal import hilbert\n",
    "from scipy.signal.windows import tukey \n",
    "import numpy as np\n",
    "import vectorised_hf as vhf\n",
    "\n",
    "# Load just the waveform from the data file\n",
    "data = scipy.io.loadmat('data/ultrasound_reflection_data.mat', variable_names=['__header__', '__version__', '__globals__', 'elementPositions', 'samplingFrequency', 'soundSpeed','waveform', 'rcvData'])\n",
    "waveform = data['waveform']\n",
    "print(type(data))\n",
    "print (data.keys())\n",
    "folder_path = 'data'\n"
   ]
  },
  {
   "cell_type": "code",
   "execution_count": null,
   "metadata": {},
   "outputs": [],
   "source": [
    "# Extract the numpy arrays from the dictionary using their variable names\n",
    "waveform = data['waveform']\n",
    "samplingFrequency = data['samplingFrequency']\n",
    "elementPositions = data['elementPositions']\n",
    "soundSpeed = data['soundSpeed']\n",
    "rcvData = data['rcvData']\n"
   ]
  },
  {
   "cell_type": "code",
   "execution_count": null,
   "metadata": {},
   "outputs": [],
   "source": [
    "Ntx, Nrx, Nt = rcvData.shape\n",
    "rcvData2D = rcvData.reshape(Ntx*Nrx, Nt)\n",
    "winData2D = vhf.tukey_vectorised(rcvData2D,  alpha=0.1, noise_Length=300)\n",
    "test_env = vhf.envelope_detection(winData2D)"
   ]
  },
  {
   "cell_type": "code",
   "execution_count": null,
   "metadata": {},
   "outputs": [],
   "source": [
    "plt.plot (test_env[1,:])"
   ]
  },
  {
   "cell_type": "code",
   "execution_count": null,
   "metadata": {},
   "outputs": [],
   "source": [
    "# Test the create Imaging Grid function with dx = 0.0003 and Lx = 0.24\n",
    "dx = 0.002 \n",
    "Lx = 0.24\n",
    "X, Y = vhf.createImagingVector(dx, Lx)\n",
    "Npx = X.size\n",
    "print(Npx)"
   ]
  },
  {
   "cell_type": "code",
   "execution_count": null,
   "metadata": {},
   "outputs": [],
   "source": [
    "# Precompute the distance map here [m]\n",
    "# Define parameters\n",
    "dx = 0.001  # Grid spacing\n",
    "Lx = 0.1    # Size of the grid\n",
    "speedOfSound = 1540  # Speed of sound in m/s (typical for soft tissues)\n",
    "\n",
    "# Create imaging vector\n",
    "Xp, Yp = vhf.createImagingVector(dx, Lx)\n",
    "\n",
    "# Detector coordinates (example values)\n",
    "Xd = elementPositions[:,0]  # X coordinates of detectors\n",
    "Yd = elementPositions[:,1]  # Y coordinates of detectors\n",
    "\n",
    "# Xd, Xp, Yd and Yp are in 1D, this means that the function cannot run, since they don't have an overlapping dimension to be multipled by\n",
    "# The following code makes the 'points' 2D and transposes the matrices so that they are in the right row to column order, before running the distance map function\n",
    "Xd2D = Xd.reshape(-1,1)\n",
    "Xp2D = Xp.reshape(-1,1)\n",
    "Yd2D = Yd.reshape(-1,1)\n",
    "Yp2D = Yp.reshape(-1,1)\n",
    "Yd2DT = Yd2D.T\n",
    "Xd2dT = Xd2D.T\n",
    "print(Xp2D.shape)\n",
    "print(Xd2dT.shape)\n",
    "# Calculate distance map\n",
    "distanceMap = vhf.calculateDistanceMap(Xd2dT, Yd2DT, Xp2D, Yp2D)\n",
    "plt.imshow(distanceMap)\n",
    "plt.set_aspect('equal','box')\n",
    "# Convert distance map to time map\n",
    "timeMap = vhf.timeMap(distanceMap, speedOfSound)\n",
    "\n",
    "# Now timeMap contains the time taken for sound to travel \n",
    "# from each detector position to each pixel position\n",
    "\n",
    "# Precompute the distance map here [m]\n",
    "\n",
    "# Convert this to a delay map [s]\n",
    "\n",
    "# Convert this to a sample index travel time map [samples]"
   ]
  }
 ],
 "metadata": {
  "kernelspec": {
   "display_name": "base",
   "language": "python",
   "name": "python3"
  },
  "language_info": {
   "codemirror_mode": {
    "name": "ipython",
    "version": 3
   },
   "file_extension": ".py",
   "mimetype": "text/x-python",
   "name": "python",
   "nbconvert_exporter": "python",
   "pygments_lexer": "ipython3",
   "version": "3.9.12"
  }
 },
 "nbformat": 4,
 "nbformat_minor": 2
}
